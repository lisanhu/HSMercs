{
 "cells": [
  {
   "cell_type": "markdown",
   "id": "3436242a",
   "metadata": {},
   "source": [
    "# Hearthstone Mercenaries Leaderboard Querying Tool\n",
    "\n",
    "___\n",
    "\n",
    "\n",
    "This jupyter notebook is used to load and querying Mercenaries leaderboard users by usernames. This is used to answer my question: Am I playing with a real human in the leaderboard or with a bot?"
   ]
  },
  {
   "cell_type": "code",
   "execution_count": 1,
   "id": "df2ace66",
   "metadata": {},
   "outputs": [],
   "source": [
    "from fetch import *\n",
    "import pandas as pd\n",
    "import json"
   ]
  },
  {
   "cell_type": "markdown",
   "id": "200ade9e",
   "metadata": {},
   "source": [
    "The following cell is to download the current season US leaderboard data from blizzard website. By default, the data (after processing) in json format will be saved to `db_path`. You can set it to None to avoid disk writing operations.\n",
    "\n",
    "By saving the data to disk, you can skip this following cell and run other cells with the data on the disk. This will save internet traffic.\n",
    "\n",
    "The pages are downloaded using multi-threading, so it's quite fast. (On our testing machine, it took 260s to download the pages sequentially and only 3-4s to download them multi-threaded)."
   ]
  },
  {
   "cell_type": "code",
   "execution_count": 2,
   "id": "bd3b50de",
   "metadata": {},
   "outputs": [
    {
     "name": "stdout",
     "output_type": "stream",
     "text": [
      "Current seasonId is 14, total pages: 159\n",
      "Done downloading. Time taken 3.9429497718811035 seconds.\n"
     ]
    }
   ],
   "source": [
    "# db_path = \"db\"\n",
    "db_path = None\n",
    "data = []\n",
    "data = download_leaderboard_data(db_path)"
   ]
  },
  {
   "cell_type": "markdown",
   "id": "b9cf60f3",
   "metadata": {},
   "source": [
    "The following cell is required to run the other cells following it. "
   ]
  },
  {
   "cell_type": "code",
   "execution_count": 3,
   "id": "b626a458",
   "metadata": {},
   "outputs": [],
   "source": [
    "if db_path != None and len(data) == 0:\n",
    "    with open(db_path, \"r\") as db:\n",
    "        data += json.load(db)\n",
    "\n",
    "df = pd.DataFrame(data)\n",
    "# df.style.hide(axis='index')"
   ]
  },
  {
   "cell_type": "markdown",
   "id": "c75820eb",
   "metadata": {},
   "source": [
    "You can query users by part of their names in the `queries` variable. Please note \"part of their names\" must be accurate."
   ]
  },
  {
   "cell_type": "code",
   "execution_count": 4,
   "id": "f11cceba",
   "metadata": {},
   "outputs": [
    {
     "data": {
      "text/html": [
       "<style type=\"text/css\">\n",
       "</style>\n",
       "<table id=\"T_ab396\">\n",
       "  <thead>\n",
       "    <tr>\n",
       "      <th id=\"T_ab396_level0_col0\" class=\"col_heading level0 col0\" >rank</th>\n",
       "      <th id=\"T_ab396_level0_col1\" class=\"col_heading level0 col1\" >accountid</th>\n",
       "      <th id=\"T_ab396_level0_col2\" class=\"col_heading level0 col2\" >rating</th>\n",
       "    </tr>\n",
       "  </thead>\n",
       "  <tbody>\n",
       "    <tr>\n",
       "      <td id=\"T_ab396_row0_col0\" class=\"data row0 col0\" >1463</td>\n",
       "      <td id=\"T_ab396_row0_col1\" class=\"data row0 col1\" >RunningBugs</td>\n",
       "      <td id=\"T_ab396_row0_col2\" class=\"data row0 col2\" >4200</td>\n",
       "    </tr>\n",
       "    <tr>\n",
       "      <td id=\"T_ab396_row1_col0\" class=\"data row1 col0\" >1804</td>\n",
       "      <td id=\"T_ab396_row1_col1\" class=\"data row1 col1\" >FunkyMonk</td>\n",
       "      <td id=\"T_ab396_row1_col2\" class=\"data row1 col2\" >3000</td>\n",
       "    </tr>\n",
       "    <tr>\n",
       "      <td id=\"T_ab396_row2_col0\" class=\"data row2 col0\" >2294</td>\n",
       "      <td id=\"T_ab396_row2_col1\" class=\"data row2 col1\" >Monkeynine</td>\n",
       "      <td id=\"T_ab396_row2_col2\" class=\"data row2 col2\" >1800</td>\n",
       "    </tr>\n",
       "    <tr>\n",
       "      <td id=\"T_ab396_row3_col0\" class=\"data row3 col0\" >2545</td>\n",
       "      <td id=\"T_ab396_row3_col1\" class=\"data row3 col1\" >GrumpyMonk</td>\n",
       "      <td id=\"T_ab396_row3_col2\" class=\"data row3 col2\" >1200</td>\n",
       "    </tr>\n",
       "    <tr>\n",
       "      <td id=\"T_ab396_row4_col0\" class=\"data row4 col0\" >3442</td>\n",
       "      <td id=\"T_ab396_row4_col1\" class=\"data row4 col1\" >FunkyMonk</td>\n",
       "      <td id=\"T_ab396_row4_col2\" class=\"data row4 col2\" >299</td>\n",
       "    </tr>\n",
       "  </tbody>\n",
       "</table>\n"
      ],
      "text/plain": [
       "<pandas.io.formats.style.Styler at 0x7f84e81bc6a0>"
      ]
     },
     "execution_count": 4,
     "metadata": {},
     "output_type": "execute_result"
    }
   ],
   "source": [
    "queries = [\n",
    "    \"Bugs\", \"Monk\"\n",
    "]\n",
    "view = df.loc[df['accountid'].str.contains(\"|\".join(queries))]\n",
    "view.style.hide(axis='index')"
   ]
  },
  {
   "cell_type": "code",
   "execution_count": null,
   "id": "70c051ab",
   "metadata": {},
   "outputs": [],
   "source": []
  }
 ],
 "metadata": {
  "kernelspec": {
   "display_name": "Python 3 (ipykernel)",
   "language": "python",
   "name": "python3"
  },
  "language_info": {
   "codemirror_mode": {
    "name": "ipython",
    "version": 3
   },
   "file_extension": ".py",
   "mimetype": "text/x-python",
   "name": "python",
   "nbconvert_exporter": "python",
   "pygments_lexer": "ipython3",
   "version": "3.10.0"
  }
 },
 "nbformat": 4,
 "nbformat_minor": 5
}
